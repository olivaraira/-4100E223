{
  "nbformat": 4,
  "nbformat_minor": 0,
  "metadata": {
    "colab": {
      "name": "python20211011.ipynb",
      "provenance": [],
      "include_colab_link": true
    },
    "kernelspec": {
      "name": "python3",
      "display_name": "Python 3"
    },
    "language_info": {
      "name": "python"
    }
  },
  "cells": [
    {
      "cell_type": "markdown",
      "metadata": {
        "id": "view-in-github",
        "colab_type": "text"
      },
      "source": [
        "<a href=\"https://colab.research.google.com/github/olivaraira/-4100E223/blob/AILA/%E9%83%AD%E8%89%BE%E7%91%AA%204100E223.ipynb\" target=\"_parent\"><img src=\"https://colab.research.google.com/assets/colab-badge.svg\" alt=\"Open In Colab\"/></a>"
      ]
    },
    {
      "cell_type": "markdown",
      "metadata": {
        "id": "ap5vxORM2n0S"
      },
      "source": [
        "# python Data Type\n",
        "\n",
        "Date: 20211011\n",
        "\n",
        "Name: Aira Gomez Olivar 郭艾瑪  4100E223"
      ]
    },
    {
      "cell_type": "markdown",
      "metadata": {
        "id": "n-ioHh-8K7j4"
      },
      "source": [
        "# 1_Numerics Data Type"
      ]
    },
    {
      "cell_type": "markdown",
      "metadata": {
        "id": "mOClob_U5ywc"
      },
      "source": [
        "# Arithmetic operators"
      ]
    },
    {
      "cell_type": "code",
      "metadata": {
        "colab": {
          "base_uri": "https://localhost:8080/"
        },
        "id": "o8wCb6NC1l3W",
        "outputId": "c4048617-89d6-42a9-8b94-396287bfaed7"
      },
      "source": [
        "a = 18 / 7\n",
        "a"
      ],
      "execution_count": 2,
      "outputs": [
        {
          "output_type": "execute_result",
          "data": {
            "text/plain": [
              "2.5714285714285716"
            ]
          },
          "metadata": {},
          "execution_count": 2
        }
      ]
    },
    {
      "cell_type": "code",
      "metadata": {
        "colab": {
          "base_uri": "https://localhost:8080/"
        },
        "id": "jTB7zKuA25k5",
        "outputId": "6d1481e5-4274-4b65-e48a-950ba2d173b4"
      },
      "source": [
        "b = 18 // 7\n",
        "b"
      ],
      "execution_count": 3,
      "outputs": [
        {
          "output_type": "execute_result",
          "data": {
            "text/plain": [
              "2"
            ]
          },
          "metadata": {},
          "execution_count": 3
        }
      ]
    },
    {
      "cell_type": "code",
      "metadata": {
        "colab": {
          "base_uri": "https://localhost:8080/"
        },
        "id": "wP3VEYdn3NyK",
        "outputId": "1c7b54fc-df03-4ff5-8500-f7698d0f09dd"
      },
      "source": [
        "c = 18 % 7\n",
        "c"
      ],
      "execution_count": 5,
      "outputs": [
        {
          "output_type": "execute_result",
          "data": {
            "text/plain": [
              "4"
            ]
          },
          "metadata": {},
          "execution_count": 5
        }
      ]
    },
    {
      "cell_type": "markdown",
      "metadata": {
        "id": "NpJNHJ37532n"
      },
      "source": [
        "# Logical operators"
      ]
    },
    {
      "cell_type": "code",
      "metadata": {
        "colab": {
          "base_uri": "https://localhost:8080/"
        },
        "id": "6-xqXL3L3Ns5",
        "outputId": "15c9ef7c-1ec0-4420-d50b-2f844b03f537"
      },
      "source": [
        "x = 7\n",
        "print(x > 4 and x < 9)"
      ],
      "execution_count": 11,
      "outputs": [
        {
          "output_type": "stream",
          "name": "stdout",
          "text": [
            "True\n"
          ]
        }
      ]
    },
    {
      "cell_type": "markdown",
      "metadata": {
        "id": "UlJexx2y6ChW"
      },
      "source": [
        "x = 5   ==>  [x > 3] true\n",
        "\n",
        "[x < 10] TRUE\n",
        "\n",
        "[x > 3] and [x < 10] ==> True and true ==> ture  "
      ]
    },
    {
      "cell_type": "code",
      "metadata": {
        "colab": {
          "base_uri": "https://localhost:8080/"
        },
        "id": "hKjIyLaf6G-S",
        "outputId": "bd12674b-e32c-4af3-a328-71d743192dd5"
      },
      "source": [
        "x = 7\n",
        "print(x > 4 and x > 9)"
      ],
      "execution_count": 10,
      "outputs": [
        {
          "output_type": "stream",
          "name": "stdout",
          "text": [
            "False\n"
          ]
        }
      ]
    },
    {
      "cell_type": "markdown",
      "metadata": {
        "id": "oNdqGl_f7B0G"
      },
      "source": [
        "x = 5  ==> [x > 3] Ture |  [x>10] False \n",
        "\n",
        "[True] and [False] ==> False \n",
        "\n",
        "\n",
        "[True] and [True] ==> True\n",
        "\n",
        "[True] and [False] ==> False \n",
        "\n",
        "[False] and [True] ==> False\n",
        "\n",
        "[False] and [False] ==> False"
      ]
    },
    {
      "cell_type": "code",
      "metadata": {
        "colab": {
          "base_uri": "https://localhost:8080/"
        },
        "id": "rlaCeIR125dY",
        "outputId": "4a0888c8-20be-48ad-8d12-f47f59055068"
      },
      "source": [
        "x = 5\n",
        "print(x > 3 or x > 10)"
      ],
      "execution_count": null,
      "outputs": [
        {
          "output_type": "stream",
          "name": "stdout",
          "text": [
            "True\n"
          ]
        }
      ]
    },
    {
      "cell_type": "markdown",
      "metadata": {
        "id": "qklziw159iwl"
      },
      "source": [
        "[True] or [True] ==> True\n",
        "\n",
        "[True] or [False] ==> True\n",
        "\n",
        "[False] or [True] ==> True\n",
        "\n",
        "[False] or [False] ==> False"
      ]
    },
    {
      "cell_type": "markdown",
      "metadata": {
        "id": "KeNxxIWC96BE"
      },
      "source": [
        "# Built-in functions\n",
        "\n",
        "Python has many Built-in functions"
      ]
    },
    {
      "cell_type": "code",
      "metadata": {
        "colab": {
          "base_uri": "https://localhost:8080/"
        },
        "id": "fQrXfNhs-bha",
        "outputId": "ab2820a6-55cc-49c2-ceb9-86268474a79c"
      },
      "source": [
        "range(7)"
      ],
      "execution_count": 13,
      "outputs": [
        {
          "output_type": "execute_result",
          "data": {
            "text/plain": [
              "range(0, 7)"
            ]
          },
          "metadata": {},
          "execution_count": 13
        }
      ]
    },
    {
      "cell_type": "markdown",
      "metadata": {
        "id": "JNRGpdrm-gPT"
      },
      "source": [
        "decimal 3  ==> binary \n",
        "\n",
        "0b11 = 1*2 + 1 = 3\n",
        "\n",
        "ob111 =? \n",
        "\n",
        "0b111 = 1* 2^2 + 1*2 +1 =7"
      ]
    },
    {
      "cell_type": "code",
      "metadata": {
        "colab": {
          "base_uri": "https://localhost:8080/"
        },
        "id": "BrVDpRkL-uMj",
        "outputId": "b48dc5ee-b7f2-42d5-8212-bd010d9603b5"
      },
      "source": [
        "float(7)"
      ],
      "execution_count": 14,
      "outputs": [
        {
          "output_type": "execute_result",
          "data": {
            "text/plain": [
              "7.0"
            ]
          },
          "metadata": {},
          "execution_count": 14
        }
      ]
    },
    {
      "cell_type": "markdown",
      "metadata": {
        "id": "evomhpGJDY-2"
      },
      "source": [
        "# 2_string data type"
      ]
    },
    {
      "cell_type": "code",
      "metadata": {
        "colab": {
          "base_uri": "https://localhost:8080/",
          "height": 38
        },
        "id": "4HQV_41cDccI",
        "outputId": "fb4e6055-99a1-4307-bfe5-f8c8726014df"
      },
      "source": [
        "str3 = '\"You\", you are, my universe'\n",
        "str3"
      ],
      "execution_count": 22,
      "outputs": [
        {
          "output_type": "execute_result",
          "data": {
            "application/vnd.google.colaboratory.intrinsic+json": {
              "type": "string"
            },
            "text/plain": [
              "'\"You\", you are, my universe'"
            ]
          },
          "metadata": {},
          "execution_count": 22
        }
      ]
    },
    {
      "cell_type": "markdown",
      "metadata": {
        "id": "8T9SYUxOE_Wm"
      },
      "source": [
        "## operation on strings\n",
        "\n",
        "index "
      ]
    },
    {
      "cell_type": "code",
      "metadata": {
        "colab": {
          "base_uri": "https://localhost:8080/"
        },
        "id": "qtuw189UDlt7",
        "outputId": "3cf90282-eab6-42e9-91aa-83fe89549651"
      },
      "source": [
        "var1 = 'Hello Hagrid!'\n",
        "\n",
        "print(\"var1[1]:\", var1 [12])"
      ],
      "execution_count": 38,
      "outputs": [
        {
          "output_type": "stream",
          "name": "stdout",
          "text": [
            "var1[1]: !\n"
          ]
        }
      ]
    },
    {
      "cell_type": "markdown",
      "metadata": {
        "id": "ZtwTzQlrFDb8"
      },
      "source": [
        "## slice operation"
      ]
    },
    {
      "cell_type": "code",
      "metadata": {
        "colab": {
          "base_uri": "https://localhost:8080/"
        },
        "id": "bV0jsobyEHPq",
        "outputId": "720cbd29-7355-4f58-948d-6b22aaa303c5"
      },
      "source": [
        "b = \"Hello, Hagrid!\"\n",
        "print(b[1:5])\n",
        "print(b[:6])\n",
        "print(b[2:])\n",
        "print(b[-5:-2]) \n",
        "print(b[0:])"
      ],
      "execution_count": 42,
      "outputs": [
        {
          "output_type": "stream",
          "name": "stdout",
          "text": [
            "ello\n",
            "Hello,\n",
            "llo, Hagrid!\n",
            "gri\n",
            "Hello, Hagrid!\n"
          ]
        }
      ]
    },
    {
      "cell_type": "markdown",
      "metadata": {
        "id": "Qz4VT0GOFxLa"
      },
      "source": [
        "## Python string method\n",
        "\n",
        "https://www.w3schools.com/python/python_strings_methods.asp"
      ]
    },
    {
      "cell_type": "markdown",
      "metadata": {
        "id": "mVI-UTMFGEkB"
      },
      "source": [
        "## capitalize()\tConverts the first character to upper case"
      ]
    },
    {
      "cell_type": "code",
      "metadata": {
        "colab": {
          "base_uri": "https://localhost:8080/"
        },
        "id": "_WCxSaocGHQv",
        "outputId": "5e5fbac7-2006-4235-cfff-802e1772f083"
      },
      "source": [
        "txt = \"hello, how are you?.\"\n",
        "\n",
        "x = txt.capitalize()\n",
        "\n",
        "print (x)"
      ],
      "execution_count": 43,
      "outputs": [
        {
          "output_type": "stream",
          "name": "stdout",
          "text": [
            "Hello, how are you?.\n"
          ]
        }
      ]
    },
    {
      "cell_type": "markdown",
      "metadata": {
        "id": "Md8mDAxjHCsE"
      },
      "source": [
        "## Python String join() Method\n",
        "\n"
      ]
    },
    {
      "cell_type": "code",
      "metadata": {
        "colab": {
          "base_uri": "https://localhost:8080/"
        },
        "id": "UWA-gfVNHM0K",
        "outputId": "7ea2b8df-129e-480b-de00-73d945c5165b"
      },
      "source": [
        "myTuple = (\"Vante\", \"Koo\", \"Mimi\")\n",
        "\n",
        "x = \"#\".join(myTuple)\n",
        "\n",
        "print(x)"
      ],
      "execution_count": 44,
      "outputs": [
        {
          "output_type": "stream",
          "name": "stdout",
          "text": [
            "Vante#Koo#Mimi\n"
          ]
        }
      ]
    },
    {
      "cell_type": "code",
      "metadata": {
        "colab": {
          "base_uri": "https://localhost:8080/"
        },
        "id": "PENmOu5cHjZy",
        "outputId": "3088e5af-3177-4bc0-c7bc-fe59c6eff056"
      },
      "source": [
        "txt = \"i like bangtan\"\n",
        "\n",
        "x = txt.ljust(20)\n",
        "\n",
        "print(x, \"so much.\")"
      ],
      "execution_count": 45,
      "outputs": [
        {
          "output_type": "stream",
          "name": "stdout",
          "text": [
            "i like bangtan       so much.\n"
          ]
        }
      ]
    },
    {
      "cell_type": "code",
      "metadata": {
        "colab": {
          "base_uri": "https://localhost:8080/"
        },
        "id": "8sBOwnsrIAwD",
        "outputId": "6d691a3b-aba1-4f9b-8a10-e6340ac43281"
      },
      "source": [
        "txt = \"     bangtan     \"\n",
        "\n",
        "x = txt.lstrip()\n",
        "\n",
        "print(\"of all groups\", x, \"is my favorite\")"
      ],
      "execution_count": 47,
      "outputs": [
        {
          "output_type": "stream",
          "name": "stdout",
          "text": [
            "of all groups bangtan      is my favorite\n"
          ]
        }
      ]
    },
    {
      "cell_type": "markdown",
      "metadata": {
        "id": "UeDlPHiHKy80"
      },
      "source": [
        "# 3_list data type"
      ]
    },
    {
      "cell_type": "code",
      "metadata": {
        "colab": {
          "base_uri": "https://localhost:8080/"
        },
        "id": "nt2FXhktLBDR",
        "outputId": "ab524093-8006-42f0-e66f-4d77f5f75b58"
      },
      "source": [
        "list1 =  [20, 30, 9, 43, 98, 18]\n",
        "\n",
        "list1[:4]"
      ],
      "execution_count": 66,
      "outputs": [
        {
          "output_type": "execute_result",
          "data": {
            "text/plain": [
              "[20, 30, 9, 43]"
            ]
          },
          "metadata": {},
          "execution_count": 66
        }
      ]
    },
    {
      "cell_type": "markdown",
      "metadata": {
        "id": "f3cFTOOtLzq4"
      },
      "source": [
        "## slice operation"
      ]
    },
    {
      "cell_type": "code",
      "metadata": {
        "colab": {
          "base_uri": "https://localhost:8080/"
        },
        "id": "UbrGXXctLV-O",
        "outputId": "45743293-9991-4a3f-8ad2-4eed73c3cae8"
      },
      "source": [
        "list1[0:6]"
      ],
      "execution_count": 67,
      "outputs": [
        {
          "output_type": "execute_result",
          "data": {
            "text/plain": [
              "[20, 30, 9, 43, 98, 18]"
            ]
          },
          "metadata": {},
          "execution_count": 67
        }
      ]
    },
    {
      "cell_type": "markdown",
      "metadata": {
        "id": "UpO0-IjvLkoH"
      },
      "source": [
        "## list built-in functions"
      ]
    },
    {
      "cell_type": "code",
      "metadata": {
        "colab": {
          "base_uri": "https://localhost:8080/"
        },
        "id": "vOLOY_1jLjZi",
        "outputId": "f9c85ddd-0b3a-4990-ea98-e7388d545910"
      },
      "source": [
        "len(list1)"
      ],
      "execution_count": 68,
      "outputs": [
        {
          "output_type": "execute_result",
          "data": {
            "text/plain": [
              "6"
            ]
          },
          "metadata": {},
          "execution_count": 68
        }
      ]
    },
    {
      "cell_type": "code",
      "metadata": {
        "colab": {
          "base_uri": "https://localhost:8080/"
        },
        "id": "7iGhV6Y5LsET",
        "outputId": "7ffba7fc-d880-407d-fa3f-b1282a20401f"
      },
      "source": [
        "max(list1)"
      ],
      "execution_count": 69,
      "outputs": [
        {
          "output_type": "execute_result",
          "data": {
            "text/plain": [
              "98"
            ]
          },
          "metadata": {},
          "execution_count": 69
        }
      ]
    },
    {
      "cell_type": "code",
      "metadata": {
        "colab": {
          "base_uri": "https://localhost:8080/"
        },
        "id": "KApdVP0MLtRm",
        "outputId": "65dfbf60-612b-4b37-abee-f31441b8a21a"
      },
      "source": [
        "min(list1)"
      ],
      "execution_count": 70,
      "outputs": [
        {
          "output_type": "execute_result",
          "data": {
            "text/plain": [
              "9"
            ]
          },
          "metadata": {},
          "execution_count": 70
        }
      ]
    },
    {
      "cell_type": "markdown",
      "metadata": {
        "id": "MgNkLOMVNEWg"
      },
      "source": [
        "## 4_dict data type\n",
        "\n",
        "\n",
        "dict = {'Name': 'Lala', 'Age': 18, 'Class': 'First'}\n",
        "\n",
        "==> 3 key-value pairs\n",
        "\n",
        "'Name': 'Lala'  ==> Name: key , Lala : value\n",
        "\n",
        "'Age': 18\n",
        "\n",
        "'Class': 'First'\n",
        "\n",
        "\n",
        "seperated by ,\n",
        "\n",
        "\n",
        "many key-value pairs\n",
        "\n",
        "\n"
      ]
    },
    {
      "cell_type": "code",
      "metadata": {
        "colab": {
          "base_uri": "https://localhost:8080/"
        },
        "id": "wqvGpxJ9Nlol",
        "outputId": "06dcda4c-5806-4643-ba64-525b365da3f8"
      },
      "source": [
        "dict = {'Name': 'Lala', 'Age': 18, 'Class': 'First'}\n",
        "print(\"dict['Class']: \", dict['Class'])"
      ],
      "execution_count": 17,
      "outputs": [
        {
          "output_type": "stream",
          "name": "stdout",
          "text": [
            "dict['Class']:  First\n"
          ]
        }
      ]
    }
  ]
}