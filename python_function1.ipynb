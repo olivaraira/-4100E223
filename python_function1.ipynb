{
  "nbformat": 4,
  "nbformat_minor": 0,
  "metadata": {
    "colab": {
      "name": "python_function1.ipynb",
      "provenance": [],
      "collapsed_sections": [],
      "include_colab_link": true
    },
    "kernelspec": {
      "name": "python3",
      "display_name": "Python 3"
    },
    "language_info": {
      "name": "python"
    }
  },
  "cells": [
    {
      "cell_type": "markdown",
      "metadata": {
        "id": "view-in-github",
        "colab_type": "text"
      },
      "source": [
        "<a href=\"https://colab.research.google.com/github/olivaraira/-4100E223/blob/AILA/python_function1.ipynb\" target=\"_parent\"><img src=\"https://colab.research.google.com/assets/colab-badge.svg\" alt=\"Open In Colab\"/></a>"
      ]
    },
    {
      "cell_type": "code",
      "metadata": {
        "colab": {
          "base_uri": "https://localhost:8080/"
        },
        "id": "wKTcINoKL0yJ",
        "outputId": "2e55ca02-410f-4275-ecab-f2192371c4e0"
      },
      "source": [
        "def sum(i1, i2):\n",
        "    result = 0\n",
        "    for i in range(i1, i2):\n",
        "        result += i\n",
        "    return result\n",
        "\n",
        "def main():\n",
        "    print(\"Sum from 1 to 10 is\", sum(1, 11)) \n",
        "    print(\"Sum from 20 to 37 is\", sum(20, 38))\n",
        "    print(\"Sum from 35 to 49 is\", sum(35, 50))\n",
        "\n",
        "main() # Call the main function"
      ],
      "execution_count": null,
      "outputs": [
        {
          "output_type": "stream",
          "name": "stdout",
          "text": [
            "Sum from 1 to 10 is 55\n",
            "Sum from 20 to 37 is 513\n",
            "Sum from 35 to 49 is 630\n"
          ]
        }
      ]
    },
    {
      "cell_type": "markdown",
      "metadata": {
        "id": "stXcYjkNMuhf"
      },
      "source": [
        "sum(1, 11) ==> 1+2+3+4....+10=55"
      ]
    },
    {
      "cell_type": "markdown",
      "metadata": {
        "id": "tQEygft6NQqW"
      },
      "source": [
        "# Simple test\n",
        "please write a function sum(i1,i2,i3) that can do \n",
        "\n",
        "sum(i1,i2,i3)\n",
        "\n",
        "==> range(i1,i2,i3)\n",
        "\n",
        "def sum(i1,i2,i3):\n",
        "\n",
        "    -----your code\n",
        "\n",
        "\n",
        "def main():\n",
        "    print(\"Sum1\", sum(1, 11,2)) \n",
        "    print(\"Sum2\", sum(20, 38,3))\n",
        "    print(\"Sum3\", sum(35, 50,5))\n",
        "\n",
        "main() # Call the main function\n",
        "\n",
        "\n",
        "sum(1, 11,2) = 1+3+5+7+9\n",
        "\n",
        "sum(20, 38,3) = 20 +23 +26 +29+32+35\n",
        "\n",
        "sum(35, 50,5) =35+40+45\n",
        "\n",
        "\n",
        "sum2(1, 11,2) = 1+3+5+7+9\n",
        "\n",
        "sum2(20, 38,3) = 20 +23 +26 +29+32+35+38\n",
        "\n",
        "sum2(35, 50,5) =35+40+45+50\n"
      ]
    },
    {
      "cell_type": "code",
      "metadata": {
        "colab": {
          "base_uri": "https://localhost:8080/"
        },
        "id": "WblzT6sAMs_v",
        "outputId": "848b88fa-4f02-428a-9a8f-20bdfa2a4a3c"
      },
      "source": [
        "1+3+5+7+9"
      ],
      "execution_count": null,
      "outputs": [
        {
          "output_type": "execute_result",
          "data": {
            "text/plain": [
              "25"
            ]
          },
          "metadata": {},
          "execution_count": 3
        }
      ]
    },
    {
      "cell_type": "code",
      "metadata": {
        "colab": {
          "base_uri": "https://localhost:8080/"
        },
        "id": "4qwG60q_P_Jk",
        "outputId": "bd076876-6b69-4c62-b1e0-12b688633705"
      },
      "source": [
        "def swap(a,b):\n",
        "  a,b = b,a\n",
        "  return (a,b)\n",
        "\n",
        "if __name__ == '__main__':\n",
        "    x = 10\n",
        "    y = 20\n",
        "    print('x = %d,y = %d' % (x,y))\n",
        "    x,y = swap(x,y)\n",
        "    print('x = %d,y = %d' % (x,y))"
      ],
      "execution_count": null,
      "outputs": [
        {
          "output_type": "stream",
          "name": "stdout",
          "text": [
            "x = 10,y = 20\n",
            "x = 20,y = 10\n"
          ]
        }
      ]
    }
  ]
}