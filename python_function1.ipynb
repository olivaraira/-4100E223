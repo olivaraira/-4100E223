{
  "nbformat": 4,
  "nbformat_minor": 0,
  "metadata": {
    "colab": {
      "name": "python_function1.ipynb",
      "provenance": [],
      "collapsed_sections": [],
      "include_colab_link": true
    },
    "kernelspec": {
      "name": "python3",
      "display_name": "Python 3"
    },
    "language_info": {
      "name": "python"
    }
  },
  "cells": [
    {
      "cell_type": "markdown",
      "metadata": {
        "id": "view-in-github",
        "colab_type": "text"
      },
      "source": [
        "<a href=\"https://colab.research.google.com/github/olivaraira/-4100E223/blob/AILA/python_function1.ipynb\" target=\"_parent\"><img src=\"https://colab.research.google.com/assets/colab-badge.svg\" alt=\"Open In Colab\"/></a>"
      ]
    },
    {
      "cell_type": "code",
      "metadata": {
        "colab": {
          "base_uri": "https://localhost:8080/"
        },
        "id": "wKTcINoKL0yJ",
        "outputId": "f3e6b09f-0616-46c1-e907-df4aac1f5a95"
      },
      "source": [
        "def sum(i1, i2):\n",
        "    result = 0\n",
        "    for i in range(i1, i2):\n",
        "        result += i\n",
        "    return result\n",
        "\n",
        "def main():\n",
        "    print(\"Sum from 1 to 10 is\", sum(1, 11)) \n",
        "    print(\"Sum from 20 to 37 is\", sum(20, 38))\n",
        "    print(\"Sum from 35 to 49 is\", sum(35, 50))\n",
        "\n",
        "main() # Call the main function"
      ],
      "execution_count": 4,
      "outputs": [
        {
          "output_type": "stream",
          "name": "stdout",
          "text": [
            "Sum from 1 to 10 is 10\n",
            "Sum from 20 to 37 is 252\n",
            "Sum from 35 to 49 is 35\n"
          ]
        }
      ]
    },
    {
      "cell_type": "markdown",
      "metadata": {
        "id": "stXcYjkNMuhf"
      },
      "source": [
        "sum(1, 11) ==> 1+2+3+4....+10=55"
      ]
    },
    {
      "cell_type": "markdown",
      "metadata": {
        "id": "tQEygft6NQqW"
      },
      "source": [
        "# Simple test\n",
        "please write a function sum(i1,i2,i3) that can do \n",
        "\n",
        "sum(i1,i2,i3)\n",
        "\n",
        "==> range(i1,i2,i3)\n",
        "\n",
        "def sum(i1,i2,i3):\n",
        "\n",
        "    -----your code\n",
        "\n",
        "\n",
        "def main():\n",
        "    print(\"Sum1\", sum(1, 11,2)) \n",
        "    print(\"Sum2\", sum(20, 38,3))\n",
        "    print(\"Sum3\", sum(35, 50,5))\n",
        "\n",
        "main() # Call the main function\n",
        "\n",
        "\n",
        "sum(1, 11,2) = 1+3+5+7+9\n",
        "\n",
        "sum(20, 38,3) = 20 +23 +26 +29+32+35\n",
        "\n",
        "sum(35, 50,5) =35+40+45\n",
        "\n",
        "\n",
        "sum2(1, 11,2) = 1+3+5+7+9\n",
        "\n",
        "sum2(20, 38,3) = 20 +23 +26 +29+32+35+38\n",
        "\n",
        "sum2(35, 50,5) =35+40+45+50\n"
      ]
    },
    {
      "cell_type": "code",
      "metadata": {
        "colab": {
          "base_uri": "https://localhost:8080/"
        },
        "id": "WblzT6sAMs_v",
        "outputId": "848b88fa-4f02-428a-9a8f-20bdfa2a4a3c"
      },
      "source": [
        "1+3+5+7+9"
      ],
      "execution_count": null,
      "outputs": [
        {
          "output_type": "execute_result",
          "data": {
            "text/plain": [
              "25"
            ]
          },
          "metadata": {},
          "execution_count": 3
        }
      ]
    },
    {
      "cell_type": "code",
      "metadata": {
        "id": "Cte7hOoCi6HN"
      },
      "source": [
        "def sum(i1, i2, i3):\n",
        "    result = 0\n",
        "    for i in range(i1, i2, i3):\n",
        "        result += i\n",
        "    return result\n",
        "\n",
        "def main():\n",
        "    print(\"Sum from 1 to 10 is\", sum(1, 11, 8)) \n",
        "    print(\"Sum from 20 to 37 is\", sum(20, 38, 2))\n",
        "    print(\"Sum from 35 to 49 is\", sum(35, 50, 40))\n"
      ],
      "execution_count": 5,
      "outputs": []
    },
    {
      "cell_type": "code",
      "metadata": {
        "colab": {
          "base_uri": "https://localhost:8080/"
        },
        "id": "4qwG60q_P_Jk",
        "outputId": "a1beade3-e3ac-464e-f62a-5e4b8808c05a"
      },
      "source": [
        "def swap(a,b):\n",
        "  a,b = b,a\n",
        "  return (a,b)\n",
        "\n",
        "if __name__ == '__main__':\n",
        "    x = 6\n",
        "    y = 13\n",
        "    print('x = %d,y = %d' % (x,y))\n",
        "    x,y = swap(x,y)\n",
        "    print('x = %d,y = %d' % (x,y))"
      ],
      "execution_count": 6,
      "outputs": [
        {
          "output_type": "stream",
          "name": "stdout",
          "text": [
            "x = 6,y = 13\n",
            "x = 13,y = 6\n"
          ]
        }
      ]
    },
    {
      "cell_type": "code",
      "metadata": {
        "colab": {
          "base_uri": "https://localhost:8080/"
        },
        "id": "K6qsM9oNSnCy",
        "outputId": "d6547e71-0576-4e3d-c4ac-2b41907da78d"
      },
      "source": [
        "def sort(number1, number2):\n",
        "    if number1 < number2:\n",
        "        return number1, number2\n",
        "    else:\n",
        "        return number2, number1\n",
        "\n",
        "num1, num2 = sort(18, 39)\n",
        "\n",
        "print(\"num1 is\", num1)\n",
        "print(\"num2 is\", num2)"
      ],
      "execution_count": 7,
      "outputs": [
        {
          "output_type": "stream",
          "name": "stdout",
          "text": [
            "num1 is 18\n",
            "num2 is 39\n"
          ]
        }
      ]
    },
    {
      "cell_type": "code",
      "metadata": {
        "id": "ZpxIovsCTPja"
      },
      "source": [
        ""
      ],
      "execution_count": null,
      "outputs": []
    },
    {
      "cell_type": "code",
      "metadata": {
        "colab": {
          "base_uri": "https://localhost:8080/"
        },
        "id": "up1hpkzxToVK",
        "outputId": "57251b67-9b93-4882-eacd-bb7b28fed393"
      },
      "source": [
        "def sort(number1, number2, number3):\n",
        "    if (number1 < number2) and (number1 < number3):\n",
        "      if number2 < number3:\n",
        "        return number1, number2,number3\n",
        "      else:\n",
        "        return number1, number3,number2\n",
        "    if (number2 < number1) and (number2 < number3):\n",
        "      if number1 < number3:\n",
        "        return number2, number1,number3\n",
        "      else:\n",
        "        return number2, number3,number1    \n",
        "    if (number3 < number1) and (number3 < number2):\n",
        "      if number1 < number2:\n",
        "        return number3, number1,number2\n",
        "      else:\n",
        "        return number3, number2,number1 \n",
        "\n",
        "num1, num2, num3  = sort(1,18,3)\n",
        "\n",
        "print(\"num1 is\", num1)\n",
        "print(\"num2 is\", num2)\n",
        "print(\"num2 is\", num3)"
      ],
      "execution_count": 8,
      "outputs": [
        {
          "output_type": "stream",
          "name": "stdout",
          "text": [
            "num1 is 1\n",
            "num2 is 3\n",
            "num2 is 18\n"
          ]
        }
      ]
    },
    {
      "cell_type": "code",
      "metadata": {
        "colab": {
          "base_uri": "https://localhost:8080/"
        },
        "id": "WDJeTKBDWRi3",
        "outputId": "ab42a95b-bc5b-46de-9ad0-a4ce6cf80567"
      },
      "source": [
        "def sort(number1, number2, number3):\n",
        "    if number1 < number2 < number3:\n",
        "        return number1, number2, number3\n",
        "    else:\n",
        "        return number3, number2, number1\n",
        "\n",
        "num1, num2, num3 = sort(10, 13, 95)\n",
        "\n",
        "print(\"num1 is\", num1)\n",
        "print(\"num2 is\", num2)\n",
        "print(\"num3 is\", num3)"
      ],
      "execution_count": 9,
      "outputs": [
        {
          "output_type": "stream",
          "name": "stdout",
          "text": [
            "num1 is 10\n",
            "num2 is 13\n",
            "num3 is 95\n"
          ]
        }
      ]
    },
    {
      "cell_type": "code",
      "metadata": {
        "id": "DAKAaGmTc7NK"
      },
      "source": [
        "#!/usr/bin/python \n",
        "# -*- coding: UTF-8 -*- \n",
        "\n",
        "def printArea(width = 28, height = 38):\n",
        "    area = width * height\n",
        "    print(\"width:\", width, \"\\theight:\", height, \"\\tarea:\", area)"
      ],
      "execution_count": 10,
      "outputs": []
    },
    {
      "cell_type": "markdown",
      "metadata": {
        "id": "9pBxOaMfeLDJ"
      },
      "source": [
        "### use default arguments \n",
        "\n",
        "\n"
      ]
    },
    {
      "cell_type": "code",
      "metadata": {
        "colab": {
          "base_uri": "https://localhost:8080/"
        },
        "id": "jNcQYOzpdExR",
        "outputId": "a71c4ad6-226f-4634-bbb5-ff69c51c7e3b"
      },
      "source": [
        "printArea() "
      ],
      "execution_count": 11,
      "outputs": [
        {
          "output_type": "stream",
          "name": "stdout",
          "text": [
            "width: 28 \theight: 38 \tarea: 1064\n"
          ]
        }
      ]
    },
    {
      "cell_type": "markdown",
      "metadata": {
        "id": "ajyCjiSKeXJg"
      },
      "source": [
        "### use Keyword arguments"
      ]
    },
    {
      "cell_type": "code",
      "metadata": {
        "colab": {
          "base_uri": "https://localhost:8080/"
        },
        "id": "ao8-1um_dWor",
        "outputId": "c237ab7a-a7fc-4103-8c4b-237a49fc8a3d"
      },
      "source": [
        "printArea(width = 28, height = 38)"
      ],
      "execution_count": 13,
      "outputs": [
        {
          "output_type": "stream",
          "name": "stdout",
          "text": [
            "width: 28 \theight: 38 \tarea: 1064\n"
          ]
        }
      ]
    },
    {
      "cell_type": "code",
      "metadata": {
        "colab": {
          "base_uri": "https://localhost:8080/"
        },
        "id": "gM7UPbYIdqwI",
        "outputId": "54cfb9c5-6a45-47ef-b4e6-b4a26a857f1a"
      },
      "source": [
        "printArea(height = 28, width = 38)"
      ],
      "execution_count": 15,
      "outputs": [
        {
          "output_type": "stream",
          "name": "stdout",
          "text": [
            "width: 38 \theight: 28 \tarea: 1064\n"
          ]
        }
      ]
    },
    {
      "cell_type": "markdown",
      "metadata": {
        "id": "I6VXrP6MeerA"
      },
      "source": [
        "### use Positional arguments"
      ]
    },
    {
      "cell_type": "code",
      "metadata": {
        "colab": {
          "base_uri": "https://localhost:8080/"
        },
        "id": "8Bal6cN6d1hB",
        "outputId": "5261dc3c-8541-4a6a-bc07-a3d5275e16d8"
      },
      "source": [
        "printArea(38,28)"
      ],
      "execution_count": 16,
      "outputs": [
        {
          "output_type": "stream",
          "name": "stdout",
          "text": [
            "width: 38 \theight: 28 \tarea: 1064\n"
          ]
        }
      ]
    },
    {
      "cell_type": "code",
      "metadata": {
        "colab": {
          "base_uri": "https://localhost:8080/"
        },
        "id": "juRwnZQ1d9Co",
        "outputId": "49463596-4f7b-4464-e7b9-8a8356c5c69c"
      },
      "source": [
        "printArea(28,38)"
      ],
      "execution_count": 17,
      "outputs": [
        {
          "output_type": "stream",
          "name": "stdout",
          "text": [
            "width: 28 \theight: 38 \tarea: 1064\n"
          ]
        }
      ]
    },
    {
      "cell_type": "code",
      "metadata": {
        "id": "vrRRherTj5jP",
        "outputId": "c8dc86a5-5fd4-477a-933c-e2f749c4097f",
        "colab": {
          "base_uri": "https://localhost:8080/"
        }
      },
      "source": [
        "f1 = lambda x, y, z: x+2*y+3*z\n",
        "print(f1(12,23,32))"
      ],
      "execution_count": 19,
      "outputs": [
        {
          "output_type": "stream",
          "name": "stdout",
          "text": [
            "154\n"
          ]
        }
      ]
    },
    {
      "cell_type": "code",
      "metadata": {
        "id": "UXSb7w6_kDdj",
        "outputId": "bce48b8e-7405-4cc5-eaee-f6049d17a5bf",
        "colab": {
          "base_uri": "https://localhost:8080/"
        }
      },
      "source": [
        "def myfunc(m):\n",
        "    return m*m\n",
        "\n",
        "my_list = [2, 5, 8, 11, 14]\n",
        "\n",
        "## 使用python的map()\n",
        "\n",
        "print(list(map(lambda x:myfunc(x), my_list)))"
      ],
      "execution_count": 21,
      "outputs": [
        {
          "output_type": "stream",
          "name": "stdout",
          "text": [
            "[4, 25, 64, 121, 196]\n"
          ]
        }
      ]
    }
  ]
}