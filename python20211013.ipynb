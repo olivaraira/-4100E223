{
  "nbformat": 4,
  "nbformat_minor": 0,
  "metadata": {
    "colab": {
      "name": "python20211013.ipynb",
      "provenance": [],
      "include_colab_link": true
    },
    "kernelspec": {
      "name": "python3",
      "display_name": "Python 3"
    },
    "language_info": {
      "name": "python"
    }
  },
  "cells": [
    {
      "cell_type": "markdown",
      "metadata": {
        "id": "view-in-github",
        "colab_type": "text"
      },
      "source": [
        "<a href=\"https://colab.research.google.com/github/olivaraira/-4100E223/blob/AILA/python20211013.ipynb\" target=\"_parent\"><img src=\"https://colab.research.google.com/assets/colab-badge.svg\" alt=\"Open In Colab\"/></a>"
      ]
    },
    {
      "cell_type": "markdown",
      "metadata": {
        "id": "wEv4V-7_J69t"
      },
      "source": [
        "# Python Conditions and If statements\n",
        " 20211013\n",
        "\n",
        " https://www.w3schools.com/python/python_conditions.asp"
      ]
    },
    {
      "cell_type": "markdown",
      "metadata": {
        "id": "ygHX4B5kJyUO"
      },
      "source": [
        "a = b\n",
        "\n",
        "= ==> assignment not equal"
      ]
    },
    {
      "cell_type": "code",
      "metadata": {
        "colab": {
          "base_uri": "https://localhost:8080/"
        },
        "id": "m7J0wulfKSSN",
        "outputId": "70d98772-247a-4a84-82f4-77daa191b48a"
      },
      "source": [
        "a = 1995\n",
        "b = 2003\n",
        "if b > a:\n",
        "  print(\"b is greater than a\")"
      ],
      "execution_count": 1,
      "outputs": [
        {
          "output_type": "stream",
          "name": "stdout",
          "text": [
            "b is greater than a\n"
          ]
        }
      ]
    },
    {
      "cell_type": "code",
      "metadata": {
        "id": "o4F4eOJxKa6c"
      },
      "source": [
        "a = 2003\n",
        "b = 1995\n",
        "if b > a:\n",
        "  print(\"b is greater than a\")"
      ],
      "execution_count": 2,
      "outputs": []
    },
    {
      "cell_type": "code",
      "metadata": {
        "colab": {
          "base_uri": "https://localhost:8080/"
        },
        "id": "Bqxph6_5KtOr",
        "outputId": "c87a4e73-49c8-42b6-a0fe-7842047cba4d"
      },
      "source": [
        "a = 1995\n",
        "b = 1995\n",
        "if b > a:\n",
        "  print(\"b is greater than a\")\n",
        "elif a == b:\n",
        "  print(\"a and b are equal\")"
      ],
      "execution_count": 3,
      "outputs": [
        {
          "output_type": "stream",
          "name": "stdout",
          "text": [
            "a and b are equal\n"
          ]
        }
      ]
    },
    {
      "cell_type": "code",
      "metadata": {
        "colab": {
          "base_uri": "https://localhost:8080/"
        },
        "id": "2zKSOIvbK6nL",
        "outputId": "cada42f4-885a-4dcc-8f43-cc7ca631facf"
      },
      "source": [
        "a = 2003\n",
        "b = 1995\n",
        "if b > a:\n",
        "  print(\"b is greater than a\")\n",
        "elif a == b:\n",
        "  print(\"a and b are equal\")\n",
        "else:\n",
        "  print(\"a is greater than b\")"
      ],
      "execution_count": 4,
      "outputs": [
        {
          "output_type": "stream",
          "name": "stdout",
          "text": [
            "a is greater than b\n"
          ]
        }
      ]
    },
    {
      "cell_type": "code",
      "metadata": {
        "colab": {
          "base_uri": "https://localhost:8080/"
        },
        "id": "PR4SgafaLLSr",
        "outputId": "c035d5c4-65eb-4bfd-9bb2-8bd702609ca6"
      },
      "source": [
        "a = 2003\n",
        "b = 1995\n",
        "if b > a:\n",
        "  print(\"b is greater than a\")\n",
        "else:\n",
        "  print(\"b is not greater than a\")"
      ],
      "execution_count": 5,
      "outputs": [
        {
          "output_type": "stream",
          "name": "stdout",
          "text": [
            "b is not greater than a\n"
          ]
        }
      ]
    }
  ]
}